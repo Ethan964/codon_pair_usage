{
 "cells": [
  {
   "cell_type": "markdown",
   "id": "1438243d",
   "metadata": {},
   "source": [
    "# Modeling & Evvaluations for Final Filtered Mut Netphos"
   ]
  },
  {
   "cell_type": "markdown",
   "id": "af2907bf",
   "metadata": {},
   "source": [
    "## Import Most Up-to-Date Dataset"
   ]
  },
  {
   "cell_type": "code",
   "execution_count": 1,
   "id": "015e2c92",
   "metadata": {},
   "outputs": [
    {
     "data": {
      "text/html": [
       "<div>\n",
       "<style scoped>\n",
       "    .dataframe tbody tr th:only-of-type {\n",
       "        vertical-align: middle;\n",
       "    }\n",
       "\n",
       "    .dataframe tbody tr th {\n",
       "        vertical-align: top;\n",
       "    }\n",
       "\n",
       "    .dataframe thead th {\n",
       "        text-align: right;\n",
       "    }\n",
       "</style>\n",
       "<table border=\"1\" class=\"dataframe\">\n",
       "  <thead>\n",
       "    <tr style=\"text-align: right;\">\n",
       "      <th></th>\n",
       "      <th>Gene</th>\n",
       "      <th>wt</th>\n",
       "      <th>pos</th>\n",
       "      <th>mut</th>\n",
       "      <th>context</th>\n",
       "      <th>score</th>\n",
       "      <th>kinase</th>\n",
       "      <th>answer</th>\n",
       "    </tr>\n",
       "  </thead>\n",
       "  <tbody>\n",
       "    <tr>\n",
       "      <th>0</th>\n",
       "      <td>ABCB1</td>\n",
       "      <td>S</td>\n",
       "      <td>35</td>\n",
       "      <td>N</td>\n",
       "      <td>KPTVSNFSM</td>\n",
       "      <td>0.470</td>\n",
       "      <td>CaM-II</td>\n",
       "      <td>.</td>\n",
       "    </tr>\n",
       "    <tr>\n",
       "      <th>1</th>\n",
       "      <td>ABCB1</td>\n",
       "      <td>S</td>\n",
       "      <td>35</td>\n",
       "      <td>N</td>\n",
       "      <td>KPTVSNFSM</td>\n",
       "      <td>0.469</td>\n",
       "      <td>PKA</td>\n",
       "      <td>.</td>\n",
       "    </tr>\n",
       "    <tr>\n",
       "      <th>2</th>\n",
       "      <td>ABCB1</td>\n",
       "      <td>S</td>\n",
       "      <td>35</td>\n",
       "      <td>N</td>\n",
       "      <td>KPTVSNFSM</td>\n",
       "      <td>0.440</td>\n",
       "      <td>GSK3</td>\n",
       "      <td>.</td>\n",
       "    </tr>\n",
       "    <tr>\n",
       "      <th>3</th>\n",
       "      <td>ABCB1</td>\n",
       "      <td>S</td>\n",
       "      <td>35</td>\n",
       "      <td>N</td>\n",
       "      <td>KPTVSNFSM</td>\n",
       "      <td>0.413</td>\n",
       "      <td>PKG</td>\n",
       "      <td>.</td>\n",
       "    </tr>\n",
       "    <tr>\n",
       "      <th>4</th>\n",
       "      <td>ABCB1</td>\n",
       "      <td>S</td>\n",
       "      <td>35</td>\n",
       "      <td>N</td>\n",
       "      <td>KPTVSNFSM</td>\n",
       "      <td>0.365</td>\n",
       "      <td>CKI</td>\n",
       "      <td>.</td>\n",
       "    </tr>\n",
       "  </tbody>\n",
       "</table>\n",
       "</div>"
      ],
      "text/plain": [
       "    Gene wt  pos mut    context  score  kinase answer\n",
       "0  ABCB1  S   35   N  KPTVSNFSM  0.470  CaM-II      .\n",
       "1  ABCB1  S   35   N  KPTVSNFSM  0.469     PKA      .\n",
       "2  ABCB1  S   35   N  KPTVSNFSM  0.440    GSK3      .\n",
       "3  ABCB1  S   35   N  KPTVSNFSM  0.413     PKG      .\n",
       "4  ABCB1  S   35   N  KPTVSNFSM  0.365     CKI      ."
      ]
     },
     "execution_count": 1,
     "metadata": {},
     "output_type": "execute_result"
    }
   ],
   "source": [
    "\n",
    "import pandas as pd\n",
    "df = pd.read_feather('../JacobSubset/filtered/mut/final-filtered-mut-netphos.feather')\n",
    "\n",
    "df.head()"
   ]
  },
  {
   "cell_type": "code",
   "execution_count": 2,
   "id": "0a6346e2",
   "metadata": {},
   "outputs": [
    {
     "name": "stdout",
     "output_type": "stream",
     "text": [
      "answer\n",
      "0    40544\n",
      "1     2880\n",
      "Name: count, dtype: int64\n"
     ]
    },
    {
     "data": {
      "text/plain": [
       "Gene        object\n",
       "wt          object\n",
       "pos          int64\n",
       "mut         object\n",
       "context     object\n",
       "score      float64\n",
       "kinase      object\n",
       "answer       int64\n",
       "dtype: object"
      ]
     },
     "execution_count": 2,
     "metadata": {},
     "output_type": "execute_result"
    }
   ],
   "source": [
    "# fix answer column\n",
    "df['answer'] = df['answer'].apply(lambda x: 1 if str(x).strip().upper() == 'YES' else 0).astype(int)\n",
    "print(df['answer'].value_counts())\n",
    "df.dtypes"
   ]
  },
  {
   "cell_type": "markdown",
   "id": "4cc63647",
   "metadata": {},
   "source": [
    "## Build Preliminary Model"
   ]
  },
  {
   "cell_type": "markdown",
   "id": "286af497",
   "metadata": {},
   "source": [
    "### Test-Train Split "
   ]
  },
  {
   "cell_type": "code",
   "execution_count": 51,
   "id": "a75996ea",
   "metadata": {},
   "outputs": [],
   "source": [
    "\n",
    "# 80-20 split\n",
    "from sklearn.preprocessing import StandardScaler\n",
    "from sklearn.model_selection import train_test_split\n",
    "from sklearn.linear_model import LogisticRegression\n",
    "from sklearn.metrics import (\n",
    "    accuracy_score, confusion_matrix, precision_score, recall_score, f1_score, roc_auc_score, auc, classification_report\n",
    ")\n",
    "\n",
    "X = df[['wt', 'mut', 'kinase', 'pos', 'score']]\n",
    "X_encoded = pd.get_dummies(X, columns=['wt', 'mut', 'kinase'], drop_first=True)\n",
    "y = df['answer']\n",
    "\n",
    "X_train, X_test, y_train, y_test = train_test_split(\n",
    "    X_encoded, y, test_size=0.2, train_size=0.8, random_state=617, stratify=y\n",
    ")\n",
    "\n",
    "# scale our numeric variables\n",
    "scaler = StandardScaler()\n",
    "X_train_scaled = scaler.fit_transform(X_train)\n",
    "X_test_scaled = scaler.transform(X_test)\n"
   ]
  },
  {
   "cell_type": "markdown",
   "id": "daf89324",
   "metadata": {},
   "source": [
    "### Model Params + Predictions"
   ]
  },
  {
   "cell_type": "code",
   "execution_count": 31,
   "id": "12823bcb",
   "metadata": {},
   "outputs": [
    {
     "name": "stdout",
     "output_type": "stream",
     "text": [
      "Best C: 100\n",
      "Best f1 SCore: 0.9806245090248332\n"
     ]
    }
   ],
   "source": [
    "\n",
    "log_model = LogisticRegression(max_iter=1000, class_weight='balanced')\n",
    "\n",
    "# lets find the optimal value of C\n",
    "from sklearn.model_selection import GridSearchCV\n",
    "\n",
    "param_grid = {'C': [0.01, 0.1, 1, 10, 100]}\n",
    "grid = GridSearchCV(log_model, param_grid, cv=5, scoring='f1')\n",
    "grid.fit(X_train_scaled, y_train)\n",
    "\n",
    "print('Best C:', grid.best_params_['C'])\n",
    "print('Best f1 SCore:', grid.best_score_)"
   ]
  },
  {
   "cell_type": "markdown",
   "id": "b0d16146",
   "metadata": {},
   "source": [
    "### Model Setup"
   ]
  },
  {
   "cell_type": "code",
   "execution_count": 32,
   "id": "08a98a2e",
   "metadata": {},
   "outputs": [],
   "source": [
    "final_model = LogisticRegression(\n",
    "    C = 100,\n",
    "    max_iter=1000,\n",
    "    class_weight='balanced'\n",
    ")\n",
    "\n",
    "final_model.fit(X_train_scaled, y_train)\n",
    "y_pred = final_model.predict(X_test_scaled)\n",
    "y_prob = final_model.predict_proba(X_test_scaled)[:, 1]"
   ]
  },
  {
   "cell_type": "markdown",
   "id": "7509bdf0",
   "metadata": {},
   "source": [
    "### Model Evaluation"
   ]
  },
  {
   "cell_type": "code",
   "execution_count": 33,
   "id": "ae794eaa",
   "metadata": {},
   "outputs": [
    {
     "name": "stdout",
     "output_type": "stream",
     "text": [
      "Accuracy: 0.9973517559009787\n",
      "Precision: 0.9647058823529412\n",
      "Recall: 0.9965277777777778\n",
      "F1 Score: 0.9803586678052946\n",
      "ROC AUC: 0.999410056213261\n",
      "Confusion Matrix:\n",
      "[[8088   21]\n",
      " [   2  574]]\n",
      "Classification Report\n",
      "              precision    recall  f1-score   support\n",
      "\n",
      "           0       1.00      1.00      1.00      8109\n",
      "           1       0.96      1.00      0.98       576\n",
      "\n",
      "    accuracy                           1.00      8685\n",
      "   macro avg       0.98      1.00      0.99      8685\n",
      "weighted avg       1.00      1.00      1.00      8685\n",
      "\n"
     ]
    }
   ],
   "source": [
    "\n",
    "# Get basic evaluation metrics\n",
    "print(\"Accuracy:\", accuracy_score(y_test, y_pred))\n",
    "print(\"Precision:\", precision_score(y_test, y_pred))\n",
    "print(\"Recall:\", recall_score(y_test, y_pred))\n",
    "print(\"F1 Score:\", f1_score(y_test, y_pred))\n",
    "print(\"ROC AUC:\", roc_auc_score(y_test, y_prob))\n",
    "\n",
    "# Compute Confusion Matrix\n",
    "print('Confusion Matrix:')\n",
    "print(confusion_matrix(y_test, y_pred))\n",
    "\n",
    "\n",
    "# Retrieve Classification Report\n",
    "print('Classification Report')\n",
    "print(classification_report(y_test, y_pred))"
   ]
  },
  {
   "cell_type": "markdown",
   "id": "45bc3ef7",
   "metadata": {},
   "source": [
    "+ Suspiciously high metrics\n",
    "    + Perfect accuracy for class 0\n",
    "    + Near perfect metrics for class 1\n",
    "+ I suspect there is either:\n",
    "    + Data leakage from the dummy variable\n",
    "    + Too many features"
   ]
  },
  {
   "cell_type": "markdown",
   "id": "79b51efb",
   "metadata": {},
   "source": [
    "### Diagnosing Any Issues"
   ]
  },
  {
   "cell_type": "code",
   "execution_count": 34,
   "id": "a0733308",
   "metadata": {},
   "outputs": [
    {
     "name": "stdout",
     "output_type": "stream",
     "text": [
      "(43424, 51)\n",
      "pos               3.947295e+07\n",
      "wt_S              2.308500e+04\n",
      "wt_T              1.806000e+04\n",
      "score             1.409660e+04\n",
      "mut_S             1.207900e+04\n",
      "mut_T             1.006500e+04\n",
      "kinase_unsp       3.266000e+03\n",
      "mut_I             3.120000e+03\n",
      "kinase_CaM-II     2.760000e+03\n",
      "kinase_GSK3       2.760000e+03\n",
      "kinase_PKC        2.760000e+03\n",
      "kinase_DNAPK      2.760000e+03\n",
      "kinase_PKB        2.760000e+03\n",
      "kinase_PKA        2.760000e+03\n",
      "kinase_PKG        2.760000e+03\n",
      "kinase_RSK        2.760000e+03\n",
      "kinase_CKI        2.760000e+03\n",
      "kinase_CKII       2.760000e+03\n",
      "kinase_cdc2       2.760000e+03\n",
      "kinase_cdk5       2.760000e+03\n",
      "kinase_p38MAPK    2.760000e+03\n",
      "mut_N             2.426000e+03\n",
      "wt_Y              2.016000e+03\n",
      "mut_F             1.978000e+03\n",
      "mut_R             1.830000e+03\n",
      "mut_P             1.759000e+03\n",
      "mut_C             1.745000e+03\n",
      "mut_Y             1.320000e+03\n",
      "mut_G             1.290000e+03\n",
      "mut_L             1.260000e+03\n",
      "mut_M             8.250000e+02\n",
      "kinase_INSR       5.060000e+02\n",
      "kinase_EGFR       5.060000e+02\n",
      "kinase_SRC        5.060000e+02\n",
      "mut_K             3.150000e+02\n",
      "mut_H             2.680000e+02\n",
      "mut_D             8.000000e+01\n",
      "wt_C              7.500000e+01\n",
      "mut_W             6.000000e+01\n",
      "mut_t             4.500000e+01\n",
      "wt_P              3.000000e+01\n",
      "wt_D              3.000000e+01\n",
      "wt_K              3.000000e+01\n",
      "mut_V             1.500000e+01\n",
      "wt_F              1.500000e+01\n",
      "mut_E             1.500000e+01\n",
      "wt_V              1.500000e+01\n",
      "wt_L              1.500000e+01\n",
      "wt_M              1.500000e+01\n",
      "wt_R              8.000000e+00\n",
      "mut_Q             4.000000e+00\n",
      "dtype: float64\n"
     ]
    }
   ],
   "source": [
    "\n",
    "# lets find the exact shape of the dataset after the creation of dummy variables\n",
    "print(X_encoded.shape)\n",
    "print(X_encoded.sum().sort_values(ascending=False))"
   ]
  },
  {
   "cell_type": "markdown",
   "id": "ed6de4b5",
   "metadata": {},
   "source": [
    "+ Over 50 features after creation of dummy variables\n",
    "+ Model is definitely overfitting\n",
    "    + Some dummy variables having less than 50 instances in a ss of +40,000\n",
    "    + Mutation Q showing up only 4 times\n",
    "+ Lets drop the rare dummy variables in an attempt to prevent overfitting"
   ]
  },
  {
   "cell_type": "code",
   "execution_count": 35,
   "id": "3ba7e1b8",
   "metadata": {},
   "outputs": [
    {
     "name": "stdout",
     "output_type": "stream",
     "text": [
      "Dropping 15 rare columns: ['wt_C', 'wt_D', 'wt_F', 'wt_K', 'wt_L', 'wt_M', 'wt_P', 'wt_R', 'wt_V', 'mut_D', 'mut_E', 'mut_Q', 'mut_V', 'mut_W', 'mut_t']\n"
     ]
    }
   ],
   "source": [
    "\n",
    "# filter out any dummy variables with less than 100 instances\n",
    "rare_cols = [col for col in X_encoded.columns if X_encoded[col].sum() < 100]\n",
    "print(f'Dropping {len(rare_cols)} rare columns: {rare_cols}')\n",
    "X_encoded_filtered = X_encoded.drop(columns=rare_cols)"
   ]
  },
  {
   "cell_type": "markdown",
   "id": "c4fbd047",
   "metadata": {},
   "source": [
    "### Recalibrating Model"
   ]
  },
  {
   "cell_type": "code",
   "execution_count": 36,
   "id": "a95c8112",
   "metadata": {},
   "outputs": [
    {
     "name": "stdout",
     "output_type": "stream",
     "text": [
      "Best C: 100\n",
      "Best f1 SCore: 0.9818829169063916\n"
     ]
    }
   ],
   "source": [
    "\n",
    "# split data with filtered df\n",
    "X_train, X_test, y_train, y_test = train_test_split(\n",
    "    X_encoded_filtered, y, test_size=0.2, train_size=0.8, random_state=617, stratify=y\n",
    ")\n",
    "\n",
    "# scale our numeric variables\n",
    "scaler = StandardScaler()\n",
    "X_train_scaled = scaler.fit_transform(X_train)\n",
    "X_test_scaled = scaler.transform(X_test)\n",
    "\n",
    "log_model = LogisticRegression(max_iter=1000, class_weight='balanced')\n",
    "\n",
    "# lets find the optimal value of C\n",
    "from sklearn.model_selection import GridSearchCV\n",
    "\n",
    "param_grid = {'C': [0.01, 0.1, 1, 10, 100]}\n",
    "grid = GridSearchCV(log_model, param_grid, cv=5, scoring='f1')\n",
    "grid.fit(X_train_scaled, y_train)\n",
    "\n",
    "print('Best C:', grid.best_params_['C'])\n",
    "print('Best f1 SCore:', grid.best_score_)"
   ]
  },
  {
   "cell_type": "markdown",
   "id": "cc5e2aee",
   "metadata": {},
   "source": [
    "+ Nearly identical f1 score with exact same optimal value of C"
   ]
  },
  {
   "cell_type": "code",
   "execution_count": 37,
   "id": "a8181586",
   "metadata": {},
   "outputs": [
    {
     "name": "stdout",
     "output_type": "stream",
     "text": [
      "Accuracy: 0.9976971790443293\n",
      "Precision: 0.9664429530201343\n",
      "Recall: 1.0\n",
      "F1 Score: 0.9829351535836177\n",
      "ROC AUC: 0.9999813735766844\n",
      "Confusion Matrix:\n",
      "[[8089   20]\n",
      " [   0  576]]\n",
      "Classification Report\n",
      "              precision    recall  f1-score   support\n",
      "\n",
      "           0       1.00      1.00      1.00      8109\n",
      "           1       0.97      1.00      0.98       576\n",
      "\n",
      "    accuracy                           1.00      8685\n",
      "   macro avg       0.98      1.00      0.99      8685\n",
      "weighted avg       1.00      1.00      1.00      8685\n",
      "\n"
     ]
    }
   ],
   "source": [
    "\n",
    "# run final filtered model\n",
    "final_filtered_model = LogisticRegression(\n",
    "    C = 100,\n",
    "    max_iter=1000,\n",
    "    class_weight='balanced'\n",
    ")\n",
    "\n",
    "final_filtered_model.fit(X_train_scaled, y_train)\n",
    "y_pred = final_filtered_model.predict(X_test_scaled)\n",
    "y_prob = final_filtered_model.predict_proba(X_test_scaled)[:, 1]\n",
    "\n",
    "# Get basic evaluation metrics\n",
    "print(\"Accuracy:\", accuracy_score(y_test, y_pred))\n",
    "print(\"Precision:\", precision_score(y_test, y_pred))\n",
    "print(\"Recall:\", recall_score(y_test, y_pred))\n",
    "print(\"F1 Score:\", f1_score(y_test, y_pred))\n",
    "print(\"ROC AUC:\", roc_auc_score(y_test, y_prob))\n",
    "\n",
    "# Compute Confusion Matrix\n",
    "print('Confusion Matrix:')\n",
    "print(confusion_matrix(y_test, y_pred))\n",
    "\n",
    "\n",
    "# Retrieve Classification Report\n",
    "print('Classification Report')\n",
    "print(classification_report(y_test, y_pred))"
   ]
  },
  {
   "cell_type": "markdown",
   "id": "52748f8d",
   "metadata": {},
   "source": [
    "+ No improvement from the original model\n",
    "+ Let's check for feature importance by comparing coefficient per feature"
   ]
  },
  {
   "cell_type": "markdown",
   "id": "259db926",
   "metadata": {},
   "source": [
    "### Check for Feature Importance"
   ]
  },
  {
   "cell_type": "code",
   "execution_count": 38,
   "id": "20f2af57",
   "metadata": {},
   "outputs": [
    {
     "name": "stdout",
     "output_type": "stream",
     "text": [
      "score            97.130050\n",
      "kinase_PKB       15.857064\n",
      "kinase_CaM-II    15.587533\n",
      "mut_t             1.431114\n",
      "wt_F              1.057025\n",
      "wt_D              1.020722\n",
      "wt_M              0.843848\n",
      "wt_V              0.835750\n",
      "kinase_cdk5       0.493685\n",
      "mut_V             0.481390\n",
      "mut_C             0.444629\n",
      "wt_C              0.416721\n",
      "mut_S             0.379789\n",
      "mut_E             0.375191\n",
      "mut_N             0.347997\n",
      "dtype: float64\n"
     ]
    }
   ],
   "source": [
    "feature_importance = pd.Series(final_model.coef_[0], index=X_encoded.columns)\n",
    "top_features = feature_importance.abs().sort_values(ascending=False).head(15)\n",
    "print(top_features)\n"
   ]
  },
  {
   "cell_type": "markdown",
   "id": "1fa5995e",
   "metadata": {},
   "source": [
    "+ Glaring issue of including score in the model\n",
    "+ Model is extremely reliant on score for predicting instance's class\n",
    "+ Let's remove score from the set of features and retrain the model"
   ]
  },
  {
   "cell_type": "code",
   "execution_count": 39,
   "id": "264bbc9f",
   "metadata": {},
   "outputs": [
    {
     "name": "stdout",
     "output_type": "stream",
     "text": [
      "(43424, 50)\n"
     ]
    }
   ],
   "source": [
    "\n",
    "# exclude score from this model\n",
    "X_no_score = df[['wt', 'mut', 'kinase', 'pos']]\n",
    "X_encoded_no_score = pd.get_dummies(X_no_score, drop_first=True)\n",
    "print(X_encoded_no_score.shape)"
   ]
  },
  {
   "cell_type": "markdown",
   "id": "86bdb51a",
   "metadata": {},
   "source": [
    "### Running Model Without Score"
   ]
  },
  {
   "cell_type": "code",
   "execution_count": 40,
   "id": "b731a2c3",
   "metadata": {},
   "outputs": [
    {
     "name": "stdout",
     "output_type": "stream",
     "text": [
      "Best C: 0.1\n",
      "Best f1 SCore: 0.3139056074657433\n"
     ]
    }
   ],
   "source": [
    "# split data with filtered df\n",
    "X_train, X_test, y_train, y_test = train_test_split(\n",
    "    X_encoded_no_score, y, test_size=0.2, train_size=0.8, random_state=617, stratify=y\n",
    ")\n",
    "\n",
    "# scale our numeric variables\n",
    "scaler = StandardScaler()\n",
    "X_train_scaled = scaler.fit_transform(X_train)\n",
    "X_test_scaled = scaler.transform(X_test)\n",
    "\n",
    "log_model = LogisticRegression(max_iter=1000, class_weight='balanced')\n",
    "\n",
    "# lets find the optimal value of C\n",
    "from sklearn.model_selection import GridSearchCV\n",
    "\n",
    "param_grid = {'C': [0.01, 0.1, 1, 10, 100]}\n",
    "grid = GridSearchCV(log_model, param_grid, cv=5, scoring='f1')\n",
    "grid.fit(X_train_scaled, y_train)\n",
    "\n",
    "print('Best C:', grid.best_params_['C'])\n",
    "print('Best f1 SCore:', grid.best_score_)"
   ]
  },
  {
   "cell_type": "code",
   "execution_count": 41,
   "id": "92881d4e",
   "metadata": {},
   "outputs": [
    {
     "name": "stdout",
     "output_type": "stream",
     "text": [
      "Accuracy: 0.7516407599309154\n",
      "Precision: 0.1910902696365768\n",
      "Recall: 0.8489583333333334\n",
      "F1 Score: 0.3119617224880383\n",
      "ROC AUC: 0.8548639800084955\n",
      "Confusion Matrix:\n",
      "[[6039 2070]\n",
      " [  87  489]]\n",
      "Classification Report\n",
      "              precision    recall  f1-score   support\n",
      "\n",
      "           0       0.99      0.74      0.85      8109\n",
      "           1       0.19      0.85      0.31       576\n",
      "\n",
      "    accuracy                           0.75      8685\n",
      "   macro avg       0.59      0.80      0.58      8685\n",
      "weighted avg       0.93      0.75      0.81      8685\n",
      "\n"
     ]
    }
   ],
   "source": [
    "# run final filtered model\n",
    "final_no_score_model = LogisticRegression(\n",
    "    C = 0.1,\n",
    "    max_iter=1000,\n",
    "    class_weight='balanced'\n",
    ")\n",
    "\n",
    "final_no_score_model.fit(X_train_scaled, y_train)\n",
    "y_pred = final_no_score_model.predict(X_test_scaled)\n",
    "y_prob = final_no_score_model.predict_proba(X_test_scaled)[:, 1]\n",
    "\n",
    "# Get basic evaluation metrics\n",
    "print(\"Accuracy:\", accuracy_score(y_test, y_pred))\n",
    "print(\"Precision:\", precision_score(y_test, y_pred))\n",
    "print(\"Recall:\", recall_score(y_test, y_pred))\n",
    "print(\"F1 Score:\", f1_score(y_test, y_pred))\n",
    "print(\"ROC AUC:\", roc_auc_score(y_test, y_prob))\n",
    "\n",
    "# Compute Confusion Matrix\n",
    "print('Confusion Matrix:')\n",
    "print(confusion_matrix(y_test, y_pred))\n",
    "\n",
    "\n",
    "# Retrieve Classification Report\n",
    "print('Classification Report')\n",
    "print(classification_report(y_test, y_pred))"
   ]
  },
  {
   "cell_type": "markdown",
   "id": "1851c718",
   "metadata": {},
   "source": [
    "### Immediate Takeaways\n",
    "+ Model seems much more realistic\n",
    "+ Adept at identifying class 0, terrible at identifying class 1\n",
    "    + Understand considering the class imbalance\n",
    "    + Good ROC-AUC despite defficiencies\n",
    "+ Low precision indicates FPs\n",
    "    + Class rarity plays into this\n",
    "+ High recall indicates model is catching TPs\n",
    "+ High F1 means the model can confidently distinguish classes from one anoher\n",
    "+ Confusion matrix shows us the model likes to predict positive\n",
    "\n",
    "### Teaching Lessons\n",
    "+ Our model is actually learning about classes through mut, pos, wt, and kinase\n",
    "+ No longer cheating from score which was practically telling model which is which\n",
    "+ We can tune the threshold of model if we want to tune our precision vs recall\n",
    "+ Let's rerun our feature importance exercise to understand what is really pushing the model"
   ]
  },
  {
   "cell_type": "markdown",
   "id": "42570462",
   "metadata": {},
   "source": [
    "### Adjusting Model Threshold and Rerunning Feature Importance Evaluator "
   ]
  },
  {
   "cell_type": "code",
   "execution_count": 42,
   "id": "25625d8b",
   "metadata": {},
   "outputs": [
    {
     "data": {
      "image/png": "[encoded data removed]",
      "text/plain": [
       "<Figure size 640x480 with 1 Axes>"
      ]
     },
     "metadata": {},
     "output_type": "display_data"
    }
   ],
   "source": [
    "from sklearn.metrics import precision_recall_curve\n",
    "\n",
    "y_probs = final_no_score_model.predict_proba(X_test_scaled)[:,1]\n",
    "prec, rec, thresholds = precision_recall_curve(y_test, y_probs)\n",
    "import matplotlib.pyplot as plt\n",
    "plt.plot(thresholds, prec[:-1], label='Precision')\n",
    "plt.plot(thresholds, rec[:-1], label='Recall')\n",
    "plt.xlabel('Threshold')\n",
    "plt.title('Precision-Recall Tradeoff')\n",
    "plt.legend()\n",
    "plt.show()"
   ]
  },
  {
   "cell_type": "markdown",
   "id": "518e8559",
   "metadata": {},
   "source": [
    "+ From this precision-recall curve graph we can specifically choose a custom threshold\n",
    "+ Depending on the applcation, the treshold can be tuned to prioritize recall or precision\n",
    "    + To prioritize recall we would want a threshold around ~0.4\n",
    "    + For a balance between precision and recall we would want around ~0.8 \n",
    "    + For precision we would want around ~0.9\n",
    "+ Lets test out the threshold tuning below:"
   ]
  },
  {
   "cell_type": "markdown",
   "id": "ab6f148b",
   "metadata": {},
   "source": [
    "### Prioritizing Recall"
   ]
  },
  {
   "cell_type": "code",
   "execution_count": 43,
   "id": "3c6435fc",
   "metadata": {},
   "outputs": [
    {
     "name": "stdout",
     "output_type": "stream",
     "text": [
      "[[5568 2541]\n",
      " [  63  513]]\n",
      "              precision    recall  f1-score   support\n",
      "\n",
      "           0      0.989     0.687     0.810      8109\n",
      "           1      0.168     0.891     0.283       576\n",
      "\n",
      "    accuracy                          0.700      8685\n",
      "   macro avg      0.578     0.789     0.547      8685\n",
      "weighted avg      0.934     0.700     0.775      8685\n",
      "\n"
     ]
    }
   ],
   "source": [
    "\n",
    "recall_thresh = 0.4\n",
    "\n",
    "# apply threshold on model\n",
    "y_pred_thresh = (y_probs >= recall_thresh).astype(int)\n",
    "\n",
    "# recalculate metrics\n",
    "from sklearn.metrics import classification_report, confusion_matrix\n",
    "\n",
    "print(confusion_matrix(y_test, y_pred_thresh))\n",
    "print(classification_report(y_test, y_pred_thresh, digits=3))"
   ]
  },
  {
   "cell_type": "markdown",
   "id": "97de2fb1",
   "metadata": {},
   "source": [
    "### Prioritizing Balance"
   ]
  },
  {
   "cell_type": "code",
   "execution_count": 44,
   "id": "8d05fdfe",
   "metadata": {},
   "outputs": [
    {
     "name": "stdout",
     "output_type": "stream",
     "text": [
      "[[7422  687]\n",
      " [ 340  236]]\n",
      "              precision    recall  f1-score   support\n",
      "\n",
      "           0      0.956     0.915     0.935      8109\n",
      "           1      0.256     0.410     0.315       576\n",
      "\n",
      "    accuracy                          0.882      8685\n",
      "   macro avg      0.606     0.663     0.625      8685\n",
      "weighted avg      0.910     0.882     0.894      8685\n",
      "\n"
     ]
    }
   ],
   "source": [
    "\n",
    "recall_thresh = 0.8\n",
    "\n",
    "# apply threshold on model\n",
    "y_pred_thresh = (y_probs >= recall_thresh).astype(int)\n",
    "\n",
    "# recalculate metrics\n",
    "from sklearn.metrics import classification_report, confusion_matrix\n",
    "\n",
    "print(confusion_matrix(y_test, y_pred_thresh))\n",
    "print(classification_report(y_test, y_pred_thresh, digits=3))"
   ]
  },
  {
   "cell_type": "markdown",
   "id": "e912eae9",
   "metadata": {},
   "source": [
    "### Prioritizing Precision"
   ]
  },
  {
   "cell_type": "code",
   "execution_count": 45,
   "id": "ce016f5a",
   "metadata": {},
   "outputs": [
    {
     "name": "stdout",
     "output_type": "stream",
     "text": [
      "[[7958  151]\n",
      " [ 516   60]]\n",
      "              precision    recall  f1-score   support\n",
      "\n",
      "           0      0.939     0.981     0.960      8109\n",
      "           1      0.284     0.104     0.152       576\n",
      "\n",
      "    accuracy                          0.923      8685\n",
      "   macro avg      0.612     0.543     0.556      8685\n",
      "weighted avg      0.896     0.923     0.906      8685\n",
      "\n"
     ]
    }
   ],
   "source": [
    "\n",
    "recall_thresh = 0.9\n",
    "\n",
    "# apply threshold on model\n",
    "y_pred_thresh = (y_probs >= recall_thresh).astype(int)\n",
    "\n",
    "# recalculate metrics\n",
    "from sklearn.metrics import classification_report, confusion_matrix\n",
    "\n",
    "print(confusion_matrix(y_test, y_pred_thresh))\n",
    "print(classification_report(y_test, y_pred_thresh, digits=3))"
   ]
  },
  {
   "cell_type": "markdown",
   "id": "d538b8bf",
   "metadata": {},
   "source": [
    "### Threshold Tuning Conclusions\n",
    "+ Tuning for recall provides an extremely high recall with extremely low precision\n",
    "    + Similar to the balance seen in the model above\n",
    "+ Tuning for a balance between the two provides the highest F1 score\n",
    "    + Fairly similar to the precision-prioritized threshold, but provides a much higher recall\n",
    "+ Tuning for precision yields the highest precision, but a miniscule recall\n",
    "    + Worst balance (F1 score) out of all thresholds\n",
    "+ Going forward relying on the first two thresholds seems wisest"
   ]
  },
  {
   "cell_type": "markdown",
   "id": "46fa7ed0",
   "metadata": {},
   "source": [
    "+ Now let's reconduct feature importance without the influence of 'score'"
   ]
  },
  {
   "cell_type": "code",
   "execution_count": 46,
   "id": "e9ae53fd",
   "metadata": {},
   "outputs": [
    {
     "name": "stdout",
     "output_type": "stream",
     "text": [
      "kinase_unsp       1.475877\n",
      "kinase_PKC        1.233496\n",
      "kinase_cdc2       0.997599\n",
      "kinase_CKII       0.942332\n",
      "kinase_PKA        0.887246\n",
      "kinase_CaM-II     0.774298\n",
      "kinase_PKG        0.691346\n",
      "kinase_CKI        0.643625\n",
      "kinase_INSR       0.525769\n",
      "mut_P             0.511843\n",
      "kinase_RSK        0.464178\n",
      "kinase_GSK3       0.442618\n",
      "kinase_p38MAPK    0.417175\n",
      "kinase_cdk5       0.395089\n",
      "kinase_SRC        0.390508\n",
      "dtype: float64\n"
     ]
    }
   ],
   "source": [
    "feature_importance = pd.Series(final_no_score_model.coef_[0], index=X_encoded_no_score.columns)\n",
    "top_features = feature_importance.abs().sort_values(ascending=False).head(15)\n",
    "print(top_features)"
   ]
  },
  {
   "cell_type": "markdown",
   "id": "871442b7",
   "metadata": {},
   "source": [
    "+ Kinase Effects\n",
    "    + Unspecified kinase (kinase_unsp) types are strongly predictive\n",
    "    + PKC is highly likely\n",
    "    + CDC2 is also highly likely"
   ]
  },
  {
   "cell_type": "markdown",
   "id": "97cf6044",
   "metadata": {},
   "source": [
    "### Random Forest Classifcation Experiment\n"
   ]
  },
  {
   "cell_type": "code",
   "execution_count": 47,
   "id": "ebf1ffc1",
   "metadata": {},
   "outputs": [
    {
     "name": "stdout",
     "output_type": "stream",
     "text": [
      "              precision    recall  f1-score   support\n",
      "\n",
      "           0       0.95      0.94      0.95      8109\n",
      "           1       0.26      0.27      0.26       576\n",
      "\n",
      "    accuracy                           0.90      8685\n",
      "   macro avg       0.60      0.61      0.60      8685\n",
      "weighted avg       0.90      0.90      0.90      8685\n",
      "\n",
      "ROC: 0.7675411665364958\n"
     ]
    }
   ],
   "source": [
    "\n",
    "# import packages\n",
    "from sklearn.ensemble import RandomForestClassifier\n",
    "\n",
    "# initialize RF model\n",
    "rf_model = RandomForestClassifier(\n",
    "    n_estimators=100,\n",
    "    class_weight='balanced',\n",
    "    random_state=617\n",
    ")\n",
    "\n",
    "# train RF model\n",
    "rf_model.fit(X_train_scaled, y_train)\n",
    "\n",
    "# make predictions\n",
    "y_pred = rf_model.predict(X_test_scaled)\n",
    "y_prob = rf_model.predict_proba(X_test_scaled)[:,1]\n",
    "\n",
    "# print performance metrics\n",
    "print(classification_report(y_test, y_pred))\n",
    "print('ROC:', roc_auc_score(y_test, y_prob))\n",
    "\n"
   ]
  },
  {
   "cell_type": "code",
   "execution_count": 48,
   "id": "a7fd6ca8",
   "metadata": {},
   "outputs": [
    {
     "data": {
      "image/png": "[encoded data removed]",
      "text/plain": [
       "<Figure size 640x480 with 1 Axes>"
      ]
     },
     "metadata": {},
     "output_type": "display_data"
    }
   ],
   "source": [
    "\n",
    "# evaluate and group feature importances\n",
    "importances = rf_model.feature_importances_\n",
    "features = X_encoded_no_score.columns\n",
    "importance_df = pd.Series(importances, index=features).sort_values(ascending=False)\n",
    "\n",
    "# graph on a bar chart\n",
    "importance_df.head(15).plot(kind='bar')\n",
    "plt.title('Top 15 Feature Importances Using RF')\n",
    "plt.ylabel('Importance Score')\n",
    "plt.xticks(rotation=45)\n",
    "plt.tight_layout()\n",
    "plt.show()\n"
   ]
  },
  {
   "cell_type": "markdown",
   "id": "98d1b819",
   "metadata": {},
   "source": [
    "+ 'pos' is suspiciously high, possibly causing the same issue with score\n",
    "+ Same kinase types follow the patterns of importance as the coefficient vales"
   ]
  },
  {
   "cell_type": "markdown",
   "id": "4e765fbc",
   "metadata": {},
   "source": [
    "### Build Similar RF Model Without 'pos'"
   ]
  },
  {
   "cell_type": "code",
   "execution_count": 49,
   "id": "9140e022",
   "metadata": {},
   "outputs": [
    {
     "name": "stdout",
     "output_type": "stream",
     "text": [
      "    wt_C   wt_D   wt_F   wt_K   wt_L   wt_M   wt_P   wt_R  wt_S   wt_T  ...  \\\n",
      "0  False  False  False  False  False  False  False  False  True  False  ...   \n",
      "1  False  False  False  False  False  False  False  False  True  False  ...   \n",
      "2  False  False  False  False  False  False  False  False  True  False  ...   \n",
      "3  False  False  False  False  False  False  False  False  True  False  ...   \n",
      "4  False  False  False  False  False  False  False  False  True  False  ...   \n",
      "5  False  False  False  False  False  False  False  False  True  False  ...   \n",
      "6  False  False  False  False  False  False  False  False  True  False  ...   \n",
      "7  False  False  False  False  False  False  False  False  True  False  ...   \n",
      "8  False  False  False  False  False  False  False  False  True  False  ...   \n",
      "9  False  False  False  False  False  False  False  False  True  False  ...   \n",
      "\n",
      "   mut_N  mut_P  mut_Q  mut_R  mut_S  mut_T  mut_V  mut_W  mut_Y  mut_t  \n",
      "0   True  False  False  False  False  False  False  False  False  False  \n",
      "1   True  False  False  False  False  False  False  False  False  False  \n",
      "2   True  False  False  False  False  False  False  False  False  False  \n",
      "3   True  False  False  False  False  False  False  False  False  False  \n",
      "4   True  False  False  False  False  False  False  False  False  False  \n",
      "5   True  False  False  False  False  False  False  False  False  False  \n",
      "6   True  False  False  False  False  False  False  False  False  False  \n",
      "7   True  False  False  False  False  False  False  False  False  False  \n",
      "8   True  False  False  False  False  False  False  False  False  False  \n",
      "9   True  False  False  False  False  False  False  False  False  False  \n",
      "\n",
      "[10 rows x 49 columns]\n"
     ]
    }
   ],
   "source": [
    "\n",
    "# copy df without pos or score\n",
    "X_no_pos_score = df[['wt', 'kinase', 'mut']]\n",
    "y = df['answer']\n",
    "\n",
    "# grab dummy variables \n",
    "X_encoded_no_pos_score = pd.get_dummies(X_no_pos_score, drop_first=True)\n",
    "\n",
    "# preview altered df\n",
    "print(X_encoded_no_pos_score.head(10))\n"
   ]
  },
  {
   "cell_type": "code",
   "execution_count": 50,
   "id": "231070a1",
   "metadata": {},
   "outputs": [
    {
     "name": "stdout",
     "output_type": "stream",
     "text": [
      "Classification Report Without pos:               precision    recall  f1-score   support\n",
      "\n",
      "           0       0.99      0.76      0.86      8109\n",
      "           1       0.20      0.85      0.33       576\n",
      "\n",
      "    accuracy                           0.77      8685\n",
      "   macro avg       0.59      0.80      0.59      8685\n",
      "weighted avg       0.93      0.77      0.82      8685\n",
      "\n",
      "ROC: 0.873539966737918\n",
      "[[6176 1933]\n",
      " [  89  487]]\n"
     ]
    }
   ],
   "source": [
    "# train test split data\n",
    "X_train, X_test, y_train, y_test = train_test_split(\n",
    "    X_encoded_no_pos_score, y, test_size=0.2, random_state=617, stratify=y\n",
    ")\n",
    "\n",
    "\n",
    "# initialize model\n",
    "rf_model_no_pos_score = RandomForestClassifier(\n",
    "    n_estimators=100,\n",
    "    class_weight='balanced',\n",
    "    random_state=617\n",
    ")\n",
    "\n",
    "# train model\n",
    "rf_model_no_pos_score.fit(X_train, y_train)\n",
    "\n",
    "# make predictions\n",
    "y_pred = rf_model_no_pos_score.predict(X_test)\n",
    "y_prob = rf_model_no_pos_score.predict_proba(X_test)[:, 1]\n",
    "\n",
    "# print performance metrics\n",
    "print('Classification Report Without pos:', classification_report(y_test, y_pred))\n",
    "print('ROC:', roc_auc_score(y_test, y_prob))\n",
    "print(confusion_matrix(y_test, y_pred))"
   ]
  },
  {
   "cell_type": "markdown",
   "id": "a617adf0",
   "metadata": {},
   "source": [
    "### Interpreting Classification Report Without pos or score\n",
    "\n",
    "+ Very high recall on Class 1\n",
    "    + Catching most Class 1 events\n",
    "+ Terrible precision of 0.2\n",
    "    + Too many false positives\n",
    "+ ROC of 0.87\n",
    "    + Model very adept at determining difference in class\n",
    "+ Let's conduct further feature importance analysis"
   ]
  },
  {
   "cell_type": "code",
   "execution_count": 53,
   "id": "0e2fefed",
   "metadata": {},
   "outputs": [
    {
     "data": {
      "image/png": "[encoded data removed]",
      "text/plain": [
       "<Figure size 640x480 with 1 Axes>"
      ]
     },
     "metadata": {},
     "output_type": "display_data"
    }
   ],
   "source": [
    "importance_df = pd.Series(\n",
    "    rf_model_no_pos_score.feature_importances_,\n",
    "    index=X_encoded_no_pos_score.columns,\n",
    ").sort_values(ascending=True)\n",
    "\n",
    "importance_df.head(10).plot(kind='bar', title='Top Features After Omitting pos & score')\n",
    "plt.tight_layout()\n",
    "plt.show()"
   ]
  }
 ],
 "metadata": {
  "kernelspec": {
   "display_name": "base",
   "language": "python",
   "name": "python3"
  },
  "language_info": {
   "codemirror_mode": {
    "name": "ipython",
    "version": 3
   },
   "file_extension": ".py",
   "mimetype": "text/x-python",
   "name": "python",
   "nbconvert_exporter": "python",
   "pygments_lexer": "ipython3",
   "version": "3.12.4"
  }
 },
 "nbformat": 4,
 "nbformat_minor": 5
}
