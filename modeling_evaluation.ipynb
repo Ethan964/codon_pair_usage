{
 "cells": [
  {
   "cell_type": "markdown",
   "id": "1438243d",
   "metadata": {},
   "source": [
    "# Modeling & Evvaluations for Final Filtered Mut Netphos"
   ]
  },
  {
   "cell_type": "markdown",
   "id": "af2907bf",
   "metadata": {},
   "source": [
    "## Import Most Up-to-Date Dataset"
   ]
  },
  {
   "cell_type": "code",
   "execution_count": 13,
   "id": "015e2c92",
   "metadata": {},
   "outputs": [
    {
     "data": {
      "text/html": [
       "<div>\n",
       "<style scoped>\n",
       "    .dataframe tbody tr th:only-of-type {\n",
       "        vertical-align: middle;\n",
       "    }\n",
       "\n",
       "    .dataframe tbody tr th {\n",
       "        vertical-align: top;\n",
       "    }\n",
       "\n",
       "    .dataframe thead th {\n",
       "        text-align: right;\n",
       "    }\n",
       "</style>\n",
       "<table border=\"1\" class=\"dataframe\">\n",
       "  <thead>\n",
       "    <tr style=\"text-align: right;\">\n",
       "      <th></th>\n",
       "      <th>Gene</th>\n",
       "      <th>wt</th>\n",
       "      <th>pos</th>\n",
       "      <th>mut</th>\n",
       "      <th>context</th>\n",
       "      <th>score</th>\n",
       "      <th>kinase</th>\n",
       "      <th>answer</th>\n",
       "    </tr>\n",
       "  </thead>\n",
       "  <tbody>\n",
       "    <tr>\n",
       "      <th>0</th>\n",
       "      <td>ABCB1</td>\n",
       "      <td>S</td>\n",
       "      <td>35</td>\n",
       "      <td>N</td>\n",
       "      <td>KPTVSNFSM</td>\n",
       "      <td>0.470</td>\n",
       "      <td>CaM-II</td>\n",
       "      <td>.</td>\n",
       "    </tr>\n",
       "    <tr>\n",
       "      <th>1</th>\n",
       "      <td>ABCB1</td>\n",
       "      <td>S</td>\n",
       "      <td>35</td>\n",
       "      <td>N</td>\n",
       "      <td>KPTVSNFSM</td>\n",
       "      <td>0.469</td>\n",
       "      <td>PKA</td>\n",
       "      <td>.</td>\n",
       "    </tr>\n",
       "    <tr>\n",
       "      <th>2</th>\n",
       "      <td>ABCB1</td>\n",
       "      <td>S</td>\n",
       "      <td>35</td>\n",
       "      <td>N</td>\n",
       "      <td>KPTVSNFSM</td>\n",
       "      <td>0.440</td>\n",
       "      <td>GSK3</td>\n",
       "      <td>.</td>\n",
       "    </tr>\n",
       "    <tr>\n",
       "      <th>3</th>\n",
       "      <td>ABCB1</td>\n",
       "      <td>S</td>\n",
       "      <td>35</td>\n",
       "      <td>N</td>\n",
       "      <td>KPTVSNFSM</td>\n",
       "      <td>0.413</td>\n",
       "      <td>PKG</td>\n",
       "      <td>.</td>\n",
       "    </tr>\n",
       "    <tr>\n",
       "      <th>4</th>\n",
       "      <td>ABCB1</td>\n",
       "      <td>S</td>\n",
       "      <td>35</td>\n",
       "      <td>N</td>\n",
       "      <td>KPTVSNFSM</td>\n",
       "      <td>0.365</td>\n",
       "      <td>CKI</td>\n",
       "      <td>.</td>\n",
       "    </tr>\n",
       "  </tbody>\n",
       "</table>\n",
       "</div>"
      ],
      "text/plain": [
       "    Gene wt  pos mut    context  score  kinase answer\n",
       "0  ABCB1  S   35   N  KPTVSNFSM  0.470  CaM-II      .\n",
       "1  ABCB1  S   35   N  KPTVSNFSM  0.469     PKA      .\n",
       "2  ABCB1  S   35   N  KPTVSNFSM  0.440    GSK3      .\n",
       "3  ABCB1  S   35   N  KPTVSNFSM  0.413     PKG      .\n",
       "4  ABCB1  S   35   N  KPTVSNFSM  0.365     CKI      ."
      ]
     },
     "execution_count": 13,
     "metadata": {},
     "output_type": "execute_result"
    }
   ],
   "source": [
    "\n",
    "import pandas as pd\n",
    "df = pd.read_feather('../data/filtered/mut/final-filtered-mut-netphos.feather')\n",
    "\n",
    "df.head()"
   ]
  },
  {
   "cell_type": "code",
   "execution_count": 14,
   "id": "0a6346e2",
   "metadata": {},
   "outputs": [
    {
     "name": "stdout",
     "output_type": "stream",
     "text": [
      "answer\n",
      "0    40544\n",
      "1     2880\n",
      "Name: count, dtype: int64\n"
     ]
    },
    {
     "data": {
      "text/plain": [
       "Gene        object\n",
       "wt          object\n",
       "pos          int64\n",
       "mut         object\n",
       "context     object\n",
       "score      float64\n",
       "kinase      object\n",
       "answer       int64\n",
       "dtype: object"
      ]
     },
     "execution_count": 14,
     "metadata": {},
     "output_type": "execute_result"
    }
   ],
   "source": [
    "# fix answer column\n",
    "df['answer'] = df['answer'].apply(lambda x: 1 if str(x).strip().upper() == 'YES' else 0).astype(int)\n",
    "print(df['answer'].value_counts())\n",
    "df.dtypes"
   ]
  },
  {
   "cell_type": "markdown",
   "id": "4cc63647",
   "metadata": {},
   "source": [
    "## Build Preliminary Model"
   ]
  },
  {
   "cell_type": "markdown",
   "id": "286af497",
   "metadata": {},
   "source": [
    "### Test-Train Split "
   ]
  },
  {
   "cell_type": "code",
   "execution_count": 27,
   "id": "a75996ea",
   "metadata": {},
   "outputs": [],
   "source": [
    "\n",
    "# 80-20 split\n",
    "from sklearn.preprocessing import StandardScaler\n",
    "from sklearn.model_selection import train_test_split\n",
    "from sklearn.linear_model import LogisticRegression\n",
    "from sklearn.metrics import (\n",
    "    accuracy_score, confusion_matrix, precision_score, recall_score, f1_score, roc_auc_score, auc, classification_report\n",
    ")\n",
    "\n",
    "X = df[['wt', 'mut', 'kinase', 'pos', 'score']]\n",
    "X_encoded = pd.get_dummies(X, columns=['wt', 'mut', 'kinase'], drop_first=True)\n",
    "y = df['answer']\n",
    "\n",
    "X_train, X_test, y_train, y_test = train_test_split(\n",
    "    X_encoded, y, test_size=0.2, train_size=0.8, random_state=617, stratify=y\n",
    ")\n",
    "\n",
    "# scale our numeric variables\n",
    "scaler = StandardScaler()\n",
    "X_train_scaled = scaler.fit_transform(X_train)\n",
    "X_test_scaled = scaler.transform(X_test)\n"
   ]
  },
  {
   "cell_type": "markdown",
   "id": "daf89324",
   "metadata": {},
   "source": [
    "### Model Params + Predictions"
   ]
  },
  {
   "cell_type": "code",
   "execution_count": 28,
   "id": "12823bcb",
   "metadata": {},
   "outputs": [
    {
     "name": "stdout",
     "output_type": "stream",
     "text": [
      "Best C: 100\n",
      "Best f1 SCore: 0.9806245090248332\n"
     ]
    }
   ],
   "source": [
    "\n",
    "log_model = LogisticRegression(max_iter=1000, class_weight='balanced')\n",
    "\n",
    "# lets find the optimal value of C\n",
    "from sklearn.model_selection import GridSearchCV\n",
    "\n",
    "param_grid = {'C': [0.01, 0.1, 1, 10, 100]}\n",
    "grid = GridSearchCV(log_model, param_grid, cv=5, scoring='f1')\n",
    "grid.fit(X_train_scaled, y_train)\n",
    "\n",
    "print('Best C:', grid.best_params_['C'])\n",
    "print('Best f1 SCore:', grid.best_score_)"
   ]
  },
  {
   "cell_type": "markdown",
   "id": "b0d16146",
   "metadata": {},
   "source": [
    "### Model Setup"
   ]
  },
  {
   "cell_type": "code",
   "execution_count": 29,
   "id": "08a98a2e",
   "metadata": {},
   "outputs": [],
   "source": [
    "final_model = LogisticRegression(\n",
    "    C = 100,\n",
    "    max_iter=1000,\n",
    "    class_weight='balanced'\n",
    ")\n",
    "\n",
    "final_model.fit(X_train_scaled, y_train)\n",
    "y_pred = final_model.predict(X_test_scaled)\n",
    "y_prob = final_model.predict_proba(X_test_scaled)[:, 1]"
   ]
  },
  {
   "cell_type": "markdown",
   "id": "7509bdf0",
   "metadata": {},
   "source": [
    "### Model Evaluation"
   ]
  },
  {
   "cell_type": "code",
   "execution_count": 30,
   "id": "ae794eaa",
   "metadata": {},
   "outputs": [
    {
     "name": "stdout",
     "output_type": "stream",
     "text": [
      "Accuracy: 0.9973517559009787\n",
      "Precision: 0.9647058823529412\n",
      "Recall: 0.9965277777777778\n",
      "F1 Score: 0.9803586678052946\n",
      "ROC AUC: 0.999410056213261\n",
      "Confusion Matrix:\n",
      "              precision    recall  f1-score   support\n",
      "\n",
      "           0       1.00      1.00      1.00      8109\n",
      "           1       0.96      1.00      0.98       576\n",
      "\n",
      "    accuracy                           1.00      8685\n",
      "   macro avg       0.98      1.00      0.99      8685\n",
      "weighted avg       1.00      1.00      1.00      8685\n",
      "\n",
      "Classification Report\n",
      "              precision    recall  f1-score   support\n",
      "\n",
      "           0       1.00      1.00      1.00      8109\n",
      "           1       0.96      1.00      0.98       576\n",
      "\n",
      "    accuracy                           1.00      8685\n",
      "   macro avg       0.98      1.00      0.99      8685\n",
      "weighted avg       1.00      1.00      1.00      8685\n",
      "\n"
     ]
    }
   ],
   "source": [
    "\n",
    "# Get basic evaluation metrics\n",
    "print(\"Accuracy:\", accuracy_score(y_test, y_pred))\n",
    "print(\"Precision:\", precision_score(y_test, y_pred))\n",
    "print(\"Recall:\", recall_score(y_test, y_pred))\n",
    "print(\"F1 Score:\", f1_score(y_test, y_pred))\n",
    "print(\"ROC AUC:\", roc_auc_score(y_test, y_prob))\n",
    "\n",
    "# Compute Confusion Matrix\n",
    "print('Confusion Matrix:')\n",
    "print(classification_report(y_test, y_pred))\n",
    "\n",
    "\n",
    "# Retrieve Classification Report\n",
    "print('Classification Report')\n",
    "print(classification_report(y_test, y_pred))"
   ]
  }
 ],
 "metadata": {
  "kernelspec": {
   "display_name": ".venv",
   "language": "python",
   "name": "python3"
  },
  "language_info": {
   "codemirror_mode": {
    "name": "ipython",
    "version": 3
   },
   "file_extension": ".py",
   "mimetype": "text/x-python",
   "name": "python",
   "nbconvert_exporter": "python",
   "pygments_lexer": "ipython3",
   "version": "3.12.10"
  }
 },
 "nbformat": 4,
 "nbformat_minor": 5
}
