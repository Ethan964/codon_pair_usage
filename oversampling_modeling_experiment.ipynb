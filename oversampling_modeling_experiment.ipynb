{
 "cells": [
  {
   "cell_type": "markdown",
   "id": "c045180d",
   "metadata": {},
   "source": [
    "# Oversampling Modeling Experiments"
   ]
  },
  {
   "cell_type": "markdown",
   "id": "7015461a",
   "metadata": {},
   "source": [
    "+ Goal: To improve model performance metrics through oversampling\n",
    "+ Will implement random oversampling to hopefully boost performance\n",
    "+ Will conduct xgboosting after oversampling"
   ]
  },
  {
   "cell_type": "markdown",
   "id": "d8defcf0",
   "metadata": {},
   "source": []
  },
  {
   "cell_type": "code",
   "execution_count": 9,
   "id": "193773ad",
   "metadata": {},
   "outputs": [
    {
     "name": "stdout",
     "output_type": "stream",
     "text": [
      "answer\n",
      "0    40544\n",
      "1     2880\n",
      "Name: count, dtype: int64\n"
     ]
    },
    {
     "data": {
      "text/html": [
       "<div>\n",
       "<style scoped>\n",
       "    .dataframe tbody tr th:only-of-type {\n",
       "        vertical-align: middle;\n",
       "    }\n",
       "\n",
       "    .dataframe tbody tr th {\n",
       "        vertical-align: top;\n",
       "    }\n",
       "\n",
       "    .dataframe thead th {\n",
       "        text-align: right;\n",
       "    }\n",
       "</style>\n",
       "<table border=\"1\" class=\"dataframe\">\n",
       "  <thead>\n",
       "    <tr style=\"text-align: right;\">\n",
       "      <th></th>\n",
       "      <th>Gene</th>\n",
       "      <th>wt</th>\n",
       "      <th>pos</th>\n",
       "      <th>mut</th>\n",
       "      <th>context</th>\n",
       "      <th>score</th>\n",
       "      <th>kinase</th>\n",
       "      <th>answer</th>\n",
       "    </tr>\n",
       "  </thead>\n",
       "  <tbody>\n",
       "    <tr>\n",
       "      <th>0</th>\n",
       "      <td>ABCB1</td>\n",
       "      <td>S</td>\n",
       "      <td>35</td>\n",
       "      <td>N</td>\n",
       "      <td>KPTVSNFSM</td>\n",
       "      <td>0.470</td>\n",
       "      <td>CaM-II</td>\n",
       "      <td>0</td>\n",
       "    </tr>\n",
       "    <tr>\n",
       "      <th>1</th>\n",
       "      <td>ABCB1</td>\n",
       "      <td>S</td>\n",
       "      <td>35</td>\n",
       "      <td>N</td>\n",
       "      <td>KPTVSNFSM</td>\n",
       "      <td>0.469</td>\n",
       "      <td>PKA</td>\n",
       "      <td>0</td>\n",
       "    </tr>\n",
       "    <tr>\n",
       "      <th>2</th>\n",
       "      <td>ABCB1</td>\n",
       "      <td>S</td>\n",
       "      <td>35</td>\n",
       "      <td>N</td>\n",
       "      <td>KPTVSNFSM</td>\n",
       "      <td>0.440</td>\n",
       "      <td>GSK3</td>\n",
       "      <td>0</td>\n",
       "    </tr>\n",
       "    <tr>\n",
       "      <th>3</th>\n",
       "      <td>ABCB1</td>\n",
       "      <td>S</td>\n",
       "      <td>35</td>\n",
       "      <td>N</td>\n",
       "      <td>KPTVSNFSM</td>\n",
       "      <td>0.413</td>\n",
       "      <td>PKG</td>\n",
       "      <td>0</td>\n",
       "    </tr>\n",
       "    <tr>\n",
       "      <th>4</th>\n",
       "      <td>ABCB1</td>\n",
       "      <td>S</td>\n",
       "      <td>35</td>\n",
       "      <td>N</td>\n",
       "      <td>KPTVSNFSM</td>\n",
       "      <td>0.365</td>\n",
       "      <td>CKI</td>\n",
       "      <td>0</td>\n",
       "    </tr>\n",
       "  </tbody>\n",
       "</table>\n",
       "</div>"
      ],
      "text/plain": [
       "    Gene wt  pos mut    context  score  kinase  answer\n",
       "0  ABCB1  S   35   N  KPTVSNFSM  0.470  CaM-II       0\n",
       "1  ABCB1  S   35   N  KPTVSNFSM  0.469     PKA       0\n",
       "2  ABCB1  S   35   N  KPTVSNFSM  0.440    GSK3       0\n",
       "3  ABCB1  S   35   N  KPTVSNFSM  0.413     PKG       0\n",
       "4  ABCB1  S   35   N  KPTVSNFSM  0.365     CKI       0"
      ]
     },
     "execution_count": 9,
     "metadata": {},
     "output_type": "execute_result"
    }
   ],
   "source": [
    "\n",
    "# import necessary packages\n",
    "import pandas as pd\n",
    "import numpy as np\n",
    "\n",
    "# grab most up-to-date df\n",
    "df = pd.read_feather('../JacobSubset/filtered/mut/final-filtered-mut-netphos.feather')\n",
    "\n",
    "# format answer column\n",
    "df['answer'] = df['answer'].apply(lambda x: 1 if str(x).strip().upper() == 'YES' else 0).astype(int)\n",
    "print(df['answer'].value_counts())\n",
    "\n",
    "# preview \n",
    "df.head()\n"
   ]
  },
  {
   "cell_type": "code",
   "execution_count": 25,
   "id": "b014709a",
   "metadata": {},
   "outputs": [
    {
     "data": {
      "text/html": [
       "<div>\n",
       "<style scoped>\n",
       "    .dataframe tbody tr th:only-of-type {\n",
       "        vertical-align: middle;\n",
       "    }\n",
       "\n",
       "    .dataframe tbody tr th {\n",
       "        vertical-align: top;\n",
       "    }\n",
       "\n",
       "    .dataframe thead th {\n",
       "        text-align: right;\n",
       "    }\n",
       "</style>\n",
       "<table border=\"1\" class=\"dataframe\">\n",
       "  <thead>\n",
       "    <tr style=\"text-align: right;\">\n",
       "      <th></th>\n",
       "      <th>wt</th>\n",
       "      <th>mut</th>\n",
       "      <th>kinase</th>\n",
       "      <th>pos</th>\n",
       "    </tr>\n",
       "  </thead>\n",
       "  <tbody>\n",
       "    <tr>\n",
       "      <th>0</th>\n",
       "      <td>S</td>\n",
       "      <td>N</td>\n",
       "      <td>CaM-II</td>\n",
       "      <td>35</td>\n",
       "    </tr>\n",
       "    <tr>\n",
       "      <th>1</th>\n",
       "      <td>S</td>\n",
       "      <td>N</td>\n",
       "      <td>PKA</td>\n",
       "      <td>35</td>\n",
       "    </tr>\n",
       "    <tr>\n",
       "      <th>2</th>\n",
       "      <td>S</td>\n",
       "      <td>N</td>\n",
       "      <td>GSK3</td>\n",
       "      <td>35</td>\n",
       "    </tr>\n",
       "    <tr>\n",
       "      <th>3</th>\n",
       "      <td>S</td>\n",
       "      <td>N</td>\n",
       "      <td>PKG</td>\n",
       "      <td>35</td>\n",
       "    </tr>\n",
       "    <tr>\n",
       "      <th>4</th>\n",
       "      <td>S</td>\n",
       "      <td>N</td>\n",
       "      <td>CKI</td>\n",
       "      <td>35</td>\n",
       "    </tr>\n",
       "  </tbody>\n",
       "</table>\n",
       "</div>"
      ],
      "text/plain": [
       "  wt mut  kinase  pos\n",
       "0  S   N  CaM-II   35\n",
       "1  S   N     PKA   35\n",
       "2  S   N    GSK3   35\n",
       "3  S   N     PKG   35\n",
       "4  S   N     CKI   35"
      ]
     },
     "execution_count": 25,
     "metadata": {},
     "output_type": "execute_result"
    }
   ],
   "source": [
    "# Encode and remove unnecessary variables\n",
    "df_smote = df.drop(columns=['score'])\n",
    "\n",
    "# initialize smote df\n",
    "X_smote = df_smote[['wt', 'mut', 'kinase', 'pos']]\n",
    "y = df_smote['answer']\n",
    "\n",
    "# keep track of the indices of categorical variables for SMOTENC\n",
    "categorical_indices = [0, 1, 2]\n",
    "\n",
    "X_smote.head()"
   ]
  },
  {
   "cell_type": "markdown",
   "id": "5510fd79",
   "metadata": {},
   "source": [
    "## Begin Oversampling\n",
    "\n",
    "Lets try SMOTE-NC which is a variation of SMOTE that can effectively oversample the minority class with dummy variables."
   ]
  },
  {
   "cell_type": "code",
   "execution_count": null,
   "id": "f6bb0138",
   "metadata": {},
   "outputs": [
    {
     "name": "stderr",
     "output_type": "stream",
     "text": [
      "/opt/anaconda3/lib/python3.12/site-packages/sklearn/base.py:484: FutureWarning: `BaseEstimator._check_n_features` is deprecated in 1.6 and will be removed in 1.7. Use `sklearn.utils.validation._check_n_features` instead.\n",
      "  warnings.warn(\n",
      "/opt/anaconda3/lib/python3.12/site-packages/sklearn/base.py:493: FutureWarning: `BaseEstimator._check_feature_names` is deprecated in 1.6 and will be removed in 1.7. Use `sklearn.utils.validation._check_feature_names` instead.\n",
      "  warnings.warn(\n"
     ]
    }
   ],
   "source": [
    "\n",
    "# import oversampling packages\n",
    "from imblearn.over_sampling import SMOTENC\n",
    "from sklearn.model_selection import train_test_split\n",
    "\n",
    "smote_nc = SMOTENC(categorical_features=categorical_indices, random_state=617)\n",
    "X_resampled, y_resampled = smote_nc.fit_resample(X_smote, y)\n",
    "\n",
    "X_res_smote_enc = pd.get_dummies(X_resampled, columns=['wt', 'mut', 'kinase'], drop_first=True)\n",
    "\n",
    "# test train split data\n",
    "X_train, X_test, y_train, y_test = train_test_split(\n",
    "    X_res_smote_enc, y_resampled, test_size=0.2, random_state=617, stratify=y_resampled\n",
    ")\n",
    "\n",
    "\n",
    "\n"
   ]
  },
  {
   "cell_type": "markdown",
   "id": "c7744301",
   "metadata": {},
   "source": [
    "## Conduct Random Forest"
   ]
  },
  {
   "cell_type": "code",
   "execution_count": 27,
   "id": "3e493cc9",
   "metadata": {},
   "outputs": [
    {
     "name": "stdout",
     "output_type": "stream",
     "text": [
      "Classification Report:               precision    recall  f1-score   support\n",
      "\n",
      "           0       0.85      0.81      0.83      8109\n",
      "           1       0.82      0.85      0.84      8109\n",
      "\n",
      "    accuracy                           0.83     16218\n",
      "   macro avg       0.83      0.83      0.83     16218\n",
      "weighted avg       0.83      0.83      0.83     16218\n",
      "\n",
      "ROC AUC Score: 0.9099328849384588\n"
     ]
    }
   ],
   "source": [
    "\n",
    "# import necessary packages\n",
    "from sklearn.ensemble import RandomForestClassifier\n",
    "from sklearn.metrics import classification_report, confusion_matrix, roc_auc_score\n",
    "\n",
    "# initialize model\n",
    "rf_model = RandomForestClassifier(\n",
    "    n_estimators=100,\n",
    "    class_weight='balanced',\n",
    "    random_state=617\n",
    ")\n",
    "\n",
    "# train model\n",
    "rf_model.fit(X_train, y_train)\n",
    "\n",
    "# make predictions\n",
    "y_pred = rf_model.predict(X_test)\n",
    "y_prob = rf_model.predict_proba(X_test)[:, 1]\n",
    "\n",
    "# evaluate model\n",
    "print('Classification Report:', classification_report(y_test, y_pred))\n",
    "print('ROC AUC Score:', roc_auc_score(y_test, y_prob))\n"
   ]
  },
  {
   "cell_type": "markdown",
   "id": "110d6670",
   "metadata": {},
   "source": [
    "+ Model is suspiciously high\n",
    "    + Most likely caused by 'pos' causing data leakage\n",
    "    + Had to include pos to conduct SMOTENC\n",
    "    + Find out the culprit through feature importance\n",
    "+ Next we will try simple oversampling without pos\n",
    "+ Then conduct xgboost modeling"
   ]
  },
  {
   "cell_type": "code",
   "execution_count": 28,
   "id": "f6cb0a58",
   "metadata": {},
   "outputs": [
    {
     "name": "stdout",
     "output_type": "stream",
     "text": [
      "Classification Report:               precision    recall  f1-score   support\n",
      "\n",
      "           0       0.87      0.76      0.81      8109\n",
      "           1       0.79      0.89      0.84      8109\n",
      "\n",
      "    accuracy                           0.83     16218\n",
      "   macro avg       0.83      0.83      0.82     16218\n",
      "weighted avg       0.83      0.83      0.82     16218\n",
      "\n",
      "ROC AUC Score: 0.8978519807224542\n"
     ]
    }
   ],
   "source": [
    "\n",
    "# create new df without pos\n",
    "X_res_enc = pd.get_dummies(X_resampled, columns=['wt', 'mut', 'kinase'], drop_first=True)\n",
    "X_res_enc = X_res_enc.drop(columns=['pos'])\n",
    "\n",
    "# split data\n",
    "X_train, X_test, y_train, y_test = train_test_split(\n",
    "    X_res_enc, y_resampled, test_size=0.2, random_state=617, stratify=y_resampled\n",
    ")\n",
    "\n",
    "# initialize model\n",
    "rf_model = RandomForestClassifier(\n",
    "    n_estimators=100,\n",
    "    class_weight='balanced',\n",
    "    random_state=617\n",
    ")\n",
    "\n",
    "# train model\n",
    "rf_model.fit(X_train, y_train)\n",
    "\n",
    "# make predictions\n",
    "y_pred = rf_model.predict(X_test)\n",
    "y_prob = rf_model.predict_proba(X_test)[:, 1]\n",
    "\n",
    "# evaluate model\n",
    "print('Classification Report:', classification_report(y_test, y_pred))\n",
    "print('ROC AUC Score:', roc_auc_score(y_test, y_prob))\n"
   ]
  },
  {
   "cell_type": "markdown",
   "id": "3ce8a0e5",
   "metadata": {},
   "source": [
    "+ Surprisingly after we removed 'pos' model metrics did not plummet\n",
    "+ Model is now learning from the categorical features\n",
    "+ Very positive metrics of recall and precision no matter the class\n",
    "+ Also high ROC AUC score signaling model can confidently distinguish classes\n",
    "\n",
    "## From here we should focus on optimizing this model with xgboost and SHAP analysis "
   ]
  },
  {
   "cell_type": "code",
   "execution_count": null,
   "id": "3bcb4162",
   "metadata": {},
   "outputs": [
    {
     "name": "stderr",
     "output_type": "stream",
     "text": [
      "[14:14:33] WARNING: /Users/runner/work/xgboost/xgboost/src/learner.cc:738: \n",
      "Parameters: { \"use_label_encoder\" } are not used.\n",
      "\n"
     ]
    },
    {
     "name": "stdout",
     "output_type": "stream",
     "text": [
      "Classification_report:               precision    recall  f1-score   support\n",
      "\n",
      "           0       0.87      0.76      0.81      8109\n",
      "           1       0.79      0.89      0.83      8109\n",
      "\n",
      "    accuracy                           0.82     16218\n",
      "   macro avg       0.83      0.82      0.82     16218\n",
      "weighted avg       0.83      0.82      0.82     16218\n",
      "\n",
      "ROC Score 0.8951676656875754\n"
     ]
    }
   ],
   "source": [
    "\n",
    "# import xgboost\n",
    "from xgboost import XGBClassifier\n",
    "\n",
    "xgb_model = XGBClassifier(\n",
    "    n_estimators=100,\n",
    "    max_depth=6,\n",
    "    learning_rate=0.1,\n",
    "    eval_metric='logloss',\n",
    "    random_state=617\n",
    ")\n",
    "\n",
    "xgb_model.fit(X_train, y_train)\n",
    "\n",
    "y_pred_xgb = xgb_model.predict(X_test)\n",
    "y_prob_xgb = xgb_model.predict_proba(X_test)[:, 1]\n",
    "\n",
    "print('Classification_report:', classification_report(y_test, y_pred_xgb))\n",
    "print('ROC Score', roc_auc_score(y_test, y_prob_xgb))"
   ]
  },
  {
   "cell_type": "code",
   "execution_count": 35,
   "id": "059301b2",
   "metadata": {},
   "outputs": [
    {
     "data": {
      "image/png": "[encoded data removed]",
      "text/plain": [
       "<Figure size 800x950 with 2 Axes>"
      ]
     },
     "metadata": {},
     "output_type": "display_data"
    }
   ],
   "source": [
    "\n",
    "# import shap package\n",
    "import shap \n",
    "\n",
    "# initialize shap explainer\n",
    "explainer = shap.Explainer(xgb_model)\n",
    "\n",
    "# fit explainer onto model then lets visualize the values\n",
    "shap_values = explainer(X_test)\n",
    "shap.summary_plot(shap_values, X_test)"
   ]
  },
  {
   "cell_type": "markdown",
   "id": "10935063",
   "metadata": {},
   "source": [
    "+ We are seeing similar behaviors from when we found each feature's coefficient\n",
    "+ This is a much more insightful visualization of each features impact on 'answer'\n",
    "+ Top influential features:\n",
    "    + kinase_unsp - unspecified kinase = high SHAP\n",
    "    + kinase_PKC - high SHAP\n",
    "    + kinase_cdc2\n",
    "    + mut_P - proline mutation = significant \n",
    "    + wt_T, wt_S - threonine, serine = slightly meaningful wild-types\n",
    "+ From this plot we can try and form insights into combinations of mutations, kinase types, and wild-types"
   ]
  },
  {
   "cell_type": "code",
   "execution_count": null,
   "id": "eb2f7c21",
   "metadata": {},
   "outputs": [],
   "source": []
  }
 ],
 "metadata": {
  "kernelspec": {
   "display_name": "base",
   "language": "python",
   "name": "python3"
  },
  "language_info": {
   "codemirror_mode": {
    "name": "ipython",
    "version": 3
   },
   "file_extension": ".py",
   "mimetype": "text/x-python",
   "name": "python",
   "nbconvert_exporter": "python",
   "pygments_lexer": "ipython3",
   "version": "3.12.4"
  }
 },
 "nbformat": 4,
 "nbformat_minor": 5
}
